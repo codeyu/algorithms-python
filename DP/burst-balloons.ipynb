import  numpy as np

nums = [1,2,4,1,7,8,3]

def maxCoins(nums):
    opt = np.zeros(len(nums))
    opt[0] = nums[0]
    opt[1] = max(nums[0], nums[1])
    for i in range(2, len(nums)):
        A = opt[i-2] + nums[i]
        B = opt[i-1]
        opt[i] = max(A, B)
    return opt[len(nums) - 1]

maxCoins(nums)